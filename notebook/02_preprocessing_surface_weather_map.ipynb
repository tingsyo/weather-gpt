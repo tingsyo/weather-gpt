{
 "cells": [
  {
   "cell_type": "markdown",
   "id": "40ee05f3-11ac-4971-ae27-c65e5e05c65e",
   "metadata": {},
   "source": [
    "# Prerpocessing the Surface Weather Map\n",
    "\n",
    "The daily weather briefing (天氣概況) is composed based on the surface weather map issued at 00Z (0800 LST). Here is an example:\n",
    "\n",
    "<img src='images/20200119-0000-FI04.png' style=\"height: 200px\" />\n",
    "\n",
    "We collected the surface weather maps at 6-hour intervals from 2011 to 2020, and we want to process the dataset in this notebook. We aim to:\n",
    "\n",
    "- Pick only the 00z weather map of each day\n",
    "- Find a proper way to encode the images\n",
    "\n",
    "We hope to use the **encoded images** and related **weather briefing** to fine-tune an LLM.\n",
    "\n",
    "\n",
    "## Look into the Data"
   ]
  },
  {
   "cell_type": "code",
   "execution_count": 1,
   "id": "a67a8498-7032-4dd4-a252-eb0ae7b9ffd7",
   "metadata": {},
   "outputs": [
    {
     "name": "stdout",
     "output_type": "stream",
     "text": [
      "(3273, 2)\n",
      "       date                                               furi\n",
      "0  20110101  ../../data/weather_map/2011\\20110101\\20110101-...\n",
      "1  20110102  ../../data/weather_map/2011\\20110102\\20110102-...\n",
      "2  20110103  ../../data/weather_map/2011\\20110103\\20110103-...\n",
      "3  20110104  ../../data/weather_map/2011\\20110104\\20110104-...\n",
      "4  20110105  ../../data/weather_map/2011\\20110105\\20110105-...\n"
     ]
    }
   ],
   "source": [
    "import os\n",
    "import numpy as np\n",
    "import pandas as pd\n",
    "\n",
    "DATAROOT = '../../data/weather_map/'\n",
    "\n",
    "# Walk through the sub-directories\n",
    "file_list = []\n",
    "for root, dirs, files in os.walk(DATAROOT):\n",
    "    for name in files:\n",
    "        if name.endswith('-1.jpg'):\n",
    "            date = name.replace('-1.jpg','')\n",
    "            url = os.path.join(root, name)\n",
    "            file_list.append({'date':date, 'furi':url})\n",
    "\n",
    "file_list = pd.DataFrame(file_list)\n",
    "print(file_list.shape)\n",
    "print(file_list.head())"
   ]
  },
  {
   "cell_type": "code",
   "execution_count": 2,
   "id": "857664b4-8b28-4bb1-bad8-1dd58ae9174b",
   "metadata": {},
   "outputs": [
    {
     "name": "stdout",
     "output_type": "stream",
     "text": [
      "Requirement already satisfied: Pillow in c:\\usr\\anaconda3\\envs\\llm\\lib\\site-packages (10.2.0)\n"
     ]
    }
   ],
   "source": [
    "!pip install Pillow"
   ]
  },
  {
   "cell_type": "markdown",
   "id": "8951c338-321b-4f20-95f4-5227eb4cc7d0",
   "metadata": {},
   "source": [
    "The raw data for 2020 we received is in the format of PNG. Also, their naming convention is different from 2011 - 2019.  Here we will convert them all into jpg format (the same as others) and rename the files. \n",
    "\n",
    "We used the [`Pillow`](https://pillow.readthedocs.io/en/stable/handbook/tutorial.html) package for image processing. We do the following:\n",
    "\n",
    "- Resize images to 1280x960. (We found each image is slightly different from this size, and 2020 is ~2560x1920.)\n",
    "- Convert color scheme to 8-bit grayscale. (We found early images are black-white only, and latter images are in RGB.)\n",
    "\n",
    "### Correct the 2020 data"
   ]
  },
  {
   "cell_type": "code",
   "execution_count": 13,
   "id": "308edc3e-548c-4a42-8b03-0c9f372558b2",
   "metadata": {},
   "outputs": [
    {
     "name": "stdout",
     "output_type": "stream",
     "text": [
      "(366, 2)\n",
      "       date                                               furi\n",
      "0  20200101  ../../data/weather_map/2020/20200101-0000-FI04...\n",
      "1  20200102  ../../data/weather_map/2020/20200102-0000-FI04...\n",
      "2  20200103  ../../data/weather_map/2020/20200103-0000-FI04...\n",
      "3  20200104  ../../data/weather_map/2020/20200104-0000-FI04...\n",
      "4  20200105  ../../data/weather_map/2020/20200105-0000-FI04...\n"
     ]
    }
   ],
   "source": [
    "DATAROOT2020 = '../../data/weather_map/2020/'\n",
    "\n",
    "# Walk through the sub-directories\n",
    "file_list2020 = []\n",
    "for root, dirs, files in os.walk(DATAROOT2020):\n",
    "    for name in files:\n",
    "        if name.endswith('-0000-FI04.png'):\n",
    "            date = name.replace('-0000-FI04.png','')\n",
    "            url = os.path.join(root, name)\n",
    "            file_list2020.append({'date':date, 'furi':url})\n",
    "\n",
    "file_list2020 = pd.DataFrame(file_list2020)\n",
    "print(file_list2020.shape)\n",
    "print(file_list2020.head())"
   ]
  },
  {
   "cell_type": "code",
   "execution_count": 20,
   "id": "00e75883-b4a5-4f6c-9872-7c35f1ed68ac",
   "metadata": {},
   "outputs": [
    {
     "name": "stdout",
     "output_type": "stream",
     "text": [
      "(366, 2)\n",
      "       date                                           furi\n",
      "0  20200101  ../../data/weather_map/preproc/20200101-1.jpg\n",
      "1  20200102  ../../data/weather_map/preproc/20200102-1.jpg\n",
      "2  20200103  ../../data/weather_map/preproc/20200103-1.jpg\n",
      "3  20200104  ../../data/weather_map/preproc/20200104-1.jpg\n",
      "4  20200105  ../../data/weather_map/preproc/20200105-1.jpg\n"
     ]
    }
   ],
   "source": [
    "from PIL import Image\n",
    "\n",
    "OUTPUT_PATH = '../../data/weather_map/preproc/'\n",
    "\n",
    "ff20 = file_list2020.copy()\n",
    "\n",
    "for index, row in ff20.iterrows():\n",
    "    # Convert images from PNG to JPG\n",
    "    tmp = Image.open(row['furi'])\n",
    "    tmp = tmp.resize((1280, 960))\n",
    "    tmp = tmp.convert('L')\n",
    "    tmp.save(OUTPUT_PATH+row['date']+'-1.jpg')\n",
    "    # Replace the furi\n",
    "    row['furi'] = OUTPUT_PATH+row['date']+'-1.jpg'\n",
    "\n",
    "print(ff20.shape)\n",
    "print(ff20.head())"
   ]
  },
  {
   "cell_type": "markdown",
   "id": "9cd81cc5-f27b-4063-ac39-8baa3161667e",
   "metadata": {},
   "source": [
    "### Unify the format of 2011-2019\n",
    "\n",
    "We noticed earlier images are black/white, and more recent ones are with colors. Also, the file size is set to roughly 1280x960 but each image is slightly different from it. We need to unify the format for further analysis."
   ]
  },
  {
   "cell_type": "code",
   "execution_count": 21,
   "id": "fb433762-cf20-498f-b810-02de05a00172",
   "metadata": {},
   "outputs": [
    {
     "name": "stdout",
     "output_type": "stream",
     "text": [
      "(3273, 2)\n",
      "       date                                           furi\n",
      "0  20110101  ../../data/weather_map/preproc/20110101-1.jpg\n",
      "1  20110102  ../../data/weather_map/preproc/20110102-1.jpg\n",
      "2  20110103  ../../data/weather_map/preproc/20110103-1.jpg\n",
      "3  20110104  ../../data/weather_map/preproc/20110104-1.jpg\n",
      "4  20110105  ../../data/weather_map/preproc/20110105-1.jpg\n"
     ]
    }
   ],
   "source": [
    "OUTPUT_PATH = '../../data/weather_map/preproc/'\n",
    "\n",
    "for index, row in file_list.iterrows():\n",
    "    # Convert images from PNG to JPG\n",
    "    tmp = Image.open(row['furi'])\n",
    "    tmp = tmp.resize((1280, 960))\n",
    "    tmp = tmp.convert('L')\n",
    "    tmp.save(OUTPUT_PATH+row['date']+'-1.jpg')\n",
    "    # Replace the furi\n",
    "    row['furi'] = OUTPUT_PATH+row['date']+'-1.jpg'\n",
    "\n",
    "print(file_list.shape)\n",
    "print(file_list.head())"
   ]
  },
  {
   "cell_type": "code",
   "execution_count": 22,
   "id": "38520164-c97e-4e1f-9e34-cc5b9ac834ec",
   "metadata": {},
   "outputs": [
    {
     "name": "stdout",
     "output_type": "stream",
     "text": [
      "(3639, 2)\n",
      "       date                                           furi\n",
      "0  20110101  ../../data/weather_map/preproc/20110101-1.jpg\n",
      "1  20110102  ../../data/weather_map/preproc/20110102-1.jpg\n",
      "2  20110103  ../../data/weather_map/preproc/20110103-1.jpg\n",
      "3  20110104  ../../data/weather_map/preproc/20110104-1.jpg\n",
      "4  20110105  ../../data/weather_map/preproc/20110105-1.jpg\n"
     ]
    }
   ],
   "source": [
    "df = pd.concat([file_list, ff20])\n",
    "print(df.shape)\n",
    "print(df.head())"
   ]
  },
  {
   "cell_type": "code",
   "execution_count": 24,
   "id": "1404799f-ac54-4ab7-a4ac-4019e9e00d7d",
   "metadata": {},
   "outputs": [],
   "source": [
    "df.to_csv('../../data/flist_weather_map.csv',index=False)"
   ]
  },
  {
   "cell_type": "code",
   "execution_count": null,
   "id": "59a8d2a7-2dc0-4b3d-b0b9-8447f54b837c",
   "metadata": {},
   "outputs": [],
   "source": []
  }
 ],
 "metadata": {
  "kernelspec": {
   "display_name": "llm",
   "language": "python",
   "name": "llm"
  },
  "language_info": {
   "codemirror_mode": {
    "name": "ipython",
    "version": 3
   },
   "file_extension": ".py",
   "mimetype": "text/x-python",
   "name": "python",
   "nbconvert_exporter": "python",
   "pygments_lexer": "ipython3",
   "version": "3.11.5"
  }
 },
 "nbformat": 4,
 "nbformat_minor": 5
}
