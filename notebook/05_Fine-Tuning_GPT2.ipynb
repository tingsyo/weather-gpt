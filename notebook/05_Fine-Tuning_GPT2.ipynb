{
 "cells": [
  {
   "cell_type": "markdown",
   "id": "f93a4c22",
   "metadata": {},
   "source": [
    "# Train / Fine-tune a GPT-2\n",
    "\n",
    "In this notebook, we aim to train/fine-tune a GPT-2 model with the CWB daily briefing text.\n",
    "\n",
    "A detailed introduction can be found at [Huggingface NLP course](https://huggingface.co/learn/nlp-course/chapter1/1). We can also look into our [notebook on GPT2 poem maker](https://github.com/tingsyo/gpt2-zhtw/tree/main/notebooks).\n",
    "\n"
   ]
  },
  {
   "cell_type": "code",
   "execution_count": null,
   "id": "0b979c5c",
   "metadata": {},
   "outputs": [],
   "source": []
  }
 ],
 "metadata": {
  "kernelspec": {
   "display_name": "llm",
   "language": "python",
   "name": "llm"
  },
  "language_info": {
   "codemirror_mode": {
    "name": "ipython",
    "version": 3
   },
   "file_extension": ".py",
   "mimetype": "text/x-python",
   "name": "python",
   "nbconvert_exporter": "python",
   "pygments_lexer": "ipython3",
   "version": "3.11.5"
  }
 },
 "nbformat": 4,
 "nbformat_minor": 5
}
