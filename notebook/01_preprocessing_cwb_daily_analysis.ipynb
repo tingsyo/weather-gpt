{
 "cells": [
  {
   "cell_type": "markdown",
   "id": "1a983bb1",
   "metadata": {},
   "source": [
    "# Processing CWB Daily Analysis\n",
    "\n",
    "The Central Weather Bureau (CWB) published a daily weather briefing (天氣概況) on its [official website](https://www.cwb.gov.tw/V8/C/W/index.html) everyday. This short analysis usually contains:\n",
    "\n",
    "- the major synaptic weather systems around Taiwan,\n",
    "- the basic weather conditions of Taiwan (cloud, temperature, and precipitation), and\n",
    "- the prospects of weather conditions of Taiwan.\n",
    "- Weather warnings are specified if exist.\n",
    "- The final part of the briefing is about the wind condition on the ocean. \n",
    "\n",
    "Here we show two examples:\n",
    "<blockquote>\n",
    "(2012)２月２９日８時天氣概況：\n",
    "\n",
    "　　一、高氣壓１０２６百帕，在北緯３８度，東經１２７度，即在韓國，向東緩慢移動。\n",
    "\n",
    "　　二、今（２９日）白天起大陸冷氣團減弱，氣溫略回升，臺灣中部以北、東北部、東部、東南部地區及金門、馬祖有短暫雨，南部地區及澎湖為多雲的天氣；明（３月１）日臺灣東北部、東部及東南部地區有局部短暫雨，其他地區及澎湖、金門、馬祖為多雲到晴的天氣。今明兩天北部、中南部及澎湖、金門、馬祖易有局部霧。\n",
    "\n",
    "　　三、海上強風特報：\n",
    "１、受東北季風影響，臺灣北部海面、臺灣海峽北部、臺灣東南部海面及臺灣海峽南部平均風力可達６級，最大陣風８級，船隻請注意。今（２９）日至明（３月１）日上述各海面平均風力將持續減弱。\n",
    "２、受東北季風影響，巴士海峽及廣東海面平均風力可達６級，最大陣風８級，船隻請注意。今（２９日）晚起至明（３月１日）晨間南海平均風力將增強至６級，最大陣風８級，船隻請注意。明（３月１）日廣東海面平均風力將稍減弱。\n",
    "</blockquote>\n",
    "\n",
    "Another example:\n",
    "\n",
    "<blockquote>\n",
    "(2023)６月２８日８時天氣概況：\n",
    "    \n",
    "一、天氣特報：請參照本局發布之最新豪(大)雨特報。\n",
    "    \n",
    "二、高氣壓１０１８百帕，在北緯２９度，東經１３９度，即在日本南方海面，中心近似滯留。\n",
    "    \n",
    "三、今（２８日）白天南方雲系影響，臺灣東部及東南部地區有短暫陣雨，南部地區及澎湖亦有局部短暫陣雨，其他地區及金門、馬祖為多雲到晴，午後中部以北地區及東北部山區有局部短暫雷陣雨，山區並有局部大雨發生的機率。晚起至明（２９）日臺灣各地及馬祖多雲到晴，東部、東南部地區、恆春半島及澎湖、金門有局部短暫陣雨，午後西半部地區及其他山區有局部短暫雷陣雨，山區並有局部大雨，尤其中南部山區有局部短延時豪雨發生的機率。今晚至明晨基隆北海岸、宜蘭、恆春半島及南部沿海空曠地區易有８至９級強陣風，請注意。\n",
    "    \n",
    "四、黃海南部有局部霧，請注意。\n",
    "    \n",
    "五、海上強風特報：\n",
    "    \n",
    "１、臺灣北部海面平均風力可達６級，最大陣風８級，船隻請注意。今（２８日）下午起臺灣東北部海面平均風力將增強至６到７級，雷雨區最大陣風１０級；晚起臺灣海峽南部平均風力將增強至６級，最大陣風８級，船隻請特別注意。明（２９日）晨起臺灣北部海面平均風力將再增強至６到７級，最大陣風９級；臺灣海峽北部平均風力將再增強至６級，最大陣風８級，船隻請特別注意。明（２９）日臺灣東北部海面平均風力將稍減弱。\n",
    "    \n",
    "２、巴士海峽及東沙島海面平均風力可達６級，雷雨區最大陣風９級，船隻請注意。明（２９日）晚起南沙島海面平均風力將增強至６級，雷雨區最大陣風９級，船隻請注意。明（２９）日巴士海峽及東沙島海面平均風力將稍減弱。\n",
    "    \n",
    "３、今（２８日）晚起花鳥山海面、浙江海面及東海平均風力將增強至６級，最大陣風８級，船隻請注意。明（２９日）上午起黃海南部平均風力將增強至６級，雷雨區最大陣風９級；晚起花鳥山海面及浙江海面平均風力將增強至６到７級，最大陣風９級，船隻請特別注意。\n",
    "</blockquote>\n",
    "\n",
    "We have collected this briefing data in 2012-02-29 ~ 2020-12-31, and we want to use the analysis text to train a language model. Before we do that, we need to process the text data and form a corpus."
   ]
  },
  {
   "cell_type": "code",
   "execution_count": 1,
   "id": "83e708e1",
   "metadata": {},
   "outputs": [
    {
     "name": "stdout",
     "output_type": "stream",
     "text": [
      "(3061, 2)\n",
      "       date                                               furi\n",
      "0  20120229  ../../data/cwb_daily/2012\\2012-02-29_1100.W01.dat\n",
      "1  20120301  ../../data/cwb_daily/2012\\2012-03-01_1100.W01.dat\n",
      "2  20120302  ../../data/cwb_daily/2012\\2012-03-02_1100.W01.dat\n",
      "3  20120303  ../../data/cwb_daily/2012\\2012-03-03_1100.W01.dat\n",
      "4  20120304  ../../data/cwb_daily/2012\\2012-03-04_1100.W01.dat\n"
     ]
    }
   ],
   "source": [
    "import os\n",
    "import numpy as np\n",
    "import pandas as pd\n",
    "\n",
    "DATAROOT = '../../data/cwb_daily/'\n",
    "\n",
    "# Walk through the sub-directories\n",
    "file_list = []\n",
    "for root, dirs, files in os.walk(DATAROOT):\n",
    "    for name in files:\n",
    "        if name.endswith('_1100.W01.dat'):\n",
    "            date = name.replace('_1100.W01.dat','').replace('-','')\n",
    "            url = os.path.join(root, name)\n",
    "            file_list.append({'date':date, 'furi':url})\n",
    "\n",
    "file_list = pd.DataFrame(file_list)\n",
    "print(file_list.shape)\n",
    "print(file_list.head())"
   ]
  },
  {
   "cell_type": "code",
   "execution_count": 2,
   "id": "2d235ce5-07c3-4547-89b3-ec1f6e894de4",
   "metadata": {},
   "outputs": [],
   "source": [
    "file_list.to_csv('../../data/flist_dailybriefing.csv', index=False)"
   ]
  },
  {
   "cell_type": "code",
   "execution_count": 3,
   "id": "fab4ed9f",
   "metadata": {},
   "outputs": [
    {
     "name": "stdout",
     "output_type": "stream",
     "text": [
      "['07fW01296\\n', '中央氣象局氣象報告\\n', '１０１年２月２９日１１時０分發佈\\n', '２月２９日８時天氣概況：\\n', '\\n', '\\u3000\\u3000一、高氣壓１０２６百帕，在北緯３８度，東經１２７度\\n', '，即在韓國，向東緩慢移動。\\n', '\\n', '\\u3000\\u3000二、今（２９日）白天起大陸冷氣團減弱，氣溫略回升，\\n', '臺灣中部以北、東北部、東部、東南部地區及金門、馬祖有短\\n', '暫雨，南部地區及澎湖為多雲的天氣；明（３月１）日臺灣東\\n', '北部、東部及東南部地區有局部短暫雨，其他地區及澎湖、金\\n', '門、馬祖為多雲到晴的天氣。今明兩天北部、中南部及澎湖、\\n', '金門、馬祖易有局部霧。\\n', '\\n', '\\u3000\\u3000三、海上強風特報：\\n', '１、受東北季風影響，臺灣北部海面、臺灣海峽北部、臺灣東\\n', '南部海面及臺灣海峽南部平均風力可達６級，最大陣風８級，\\n', '船隻請注意。今（２９）日至明（３月１）日上述各海面平均\\n', '風力將持續減弱。\\n', '２、受東北季風影響，巴士海峽及廣東海面平均風力可達６級\\n', '，最大陣風８級，船隻請注意。今（２９日）晚起至明（３月\\n', '１日）晨間南海平均風力將增強至６級，最大陣風８級，船隻\\n', '請注意。明（３月１）日廣東海面平均風力將稍減弱。\\n', '\\n', '\\n']\n"
     ]
    }
   ],
   "source": [
    "furi = file_list['furi'].iloc[0]\n",
    "\n",
    "with open(furi, 'r', encoding='utf-8') as f:\n",
    "    lines = f.readlines()\n",
    "    \n",
    "print(lines)"
   ]
  },
  {
   "cell_type": "code",
   "execution_count": 4,
   "id": "de3dfb2d",
   "metadata": {},
   "outputs": [
    {
     "name": "stdout",
     "output_type": "stream",
     "text": [
      "['氣象報告\\n', '１０９年１２月３１日１１時０分發布\\n', '１２月３１日８時天氣概況：\\n', '\\n', '\\u3000\\u3000天氣特報：\\n', '\\u3000\\u3000請參照本局發布之最新陸上強風特報、低溫特報。\\n', '\\n', '\\u3000\\u3000高氣壓１０４０百帕，在北緯３０度，東經１１６度，即\\n', '在安徽，向東移動，時速１０公里。\\n', '\\n', '\\u3000\\u3000今、明（３１日、１月１日）兩天寒流影響，各地天氣非\\n', '常寒冷；臺灣東半部及大臺北地區有局部短暫雨，其他地區及\\n', '澎湖、金門、馬祖為多雲到晴；今日中部以北、東半部（含蘭\\n', '嶼、綠島）、恆春半島沿海地區及澎湖、金門、馬祖有長浪發\\n', '生的機率，請注意。\\n', '\\n', '\\u3000\\u3000海上強風特報：\\n', '１、東北風明顯偏強，臺灣海峽平均風力７至８級，最大陣風\\n', '１０級；臺灣北部海面、臺灣東北部海面及臺灣東南部海面平\\n', '均風力６至７級，最大陣風９級，船隻請特別注意。今（３１\\n', '）日臺灣東北部海面及臺灣海峽南部平均風力將稍減弱。明（\\n', '１月１）日臺灣東北部海面及臺灣海峽南部、臺灣北部海面、\\n', '臺灣東南部海面及臺灣海峽北部平均風力將稍減弱。\\n', '２、東北風明顯偏強，巴士海峽及南海平均風力７至８級，最\\n', '大陣風１０級；廣東海面平均風力６至７級，最大陣風９級，\\n', '船隻請特別注意。明（１月１）日巴士海峽、廣東海面、東沙\\n', '島海面及中西沙島海面平均風力將稍減弱。\\n', '３、高壓梯度影響，浙江海面平均風力６至７級，最大陣風９\\n', '級；黃海南部、花鳥山海面及東海平均風力可達６級，最大陣\\n', '風８級，船隻請特別注意。今（３１）日浙江海面平均風力將\\n', '稍減弱。明（１月１）日黃海南部、花鳥山海面、浙江海面及\\n', '東海平均風力將稍減弱。\\n']\n"
     ]
    }
   ],
   "source": [
    "furi = file_list['furi'].iloc[3060]\n",
    "\n",
    "with open(furi, 'r', encoding='utf-8') as f:\n",
    "    lines = f.readlines()\n",
    "    \n",
    "print(lines)"
   ]
  },
  {
   "cell_type": "markdown",
   "id": "cb1ec8e0",
   "metadata": {},
   "source": [
    "We want to keep only the weather-related description as the training corpus, so we need a parser to collect the relevant parts of the text file. From the two examples above, we found a few characteristics:\n",
    "\n",
    "- The header lines are inconsistent. Hence, we cannot select text by line numbers.\n",
    "- Paragraphs are broken into multiple lines and they are separated by a blank line.\n",
    "\n",
    "We can design a parser based on such characteristics.\n"
   ]
  },
  {
   "cell_type": "code",
   "execution_count": 10,
   "id": "c1511110",
   "metadata": {},
   "outputs": [
    {
     "name": "stdout",
     "output_type": "stream",
     "text": [
      "天氣特報：請參照本局發布之最新陸上強風特報、低溫特報。\n",
      "高氣壓１０４０百帕，在北緯３０度，東經１１６度，即在安徽，向東移動，時速１０公里。\n",
      "今、明（３１日、１月１日）兩天寒流影響，各地天氣非常寒冷；臺灣東半部及大臺北地區有局部短暫雨，其他地區及澎湖、金門、馬祖為多雲到晴；今日中部以北、東半部（含蘭嶼、綠島）、恆春半島沿海地區及澎湖、金門、馬祖有長浪發生的機率，請注意。\n",
      "\n"
     ]
    }
   ],
   "source": [
    "def parse_cwb_briefing(furi):\n",
    "    ''' Read and parse the CWB daily briefing text. '''\n",
    "    # Read data into lines\n",
    "    with open(furi, 'r', encoding='utf-8') as f:\n",
    "        lines = f.readlines()\n",
    "    # Detect empty lines as paragraph breaks\n",
    "    breaks =  [i for i, e in enumerate(lines) if e=='\\n']\n",
    "    # Concatenate paragraphs\n",
    "    doc = ''\n",
    "    for i in range(len(breaks)-1):\n",
    "        tmp = lines[breaks[i]+1:breaks[i+1]]                          # extract paragraph one by one\n",
    "        tmp = [s.replace('\\n','').replace('\\u3000','') for s in tmp]  # remove line breaks and multi-byte space\n",
    "        paragraph = ''.join(tmp)\n",
    "        if paragraph!='':\n",
    "            doc = doc + paragraph + '\\n'\n",
    "    # done\n",
    "    return(doc)\n",
    "\n",
    "tmp = parse_cwb_briefing(file_list['furi'].iloc[3060])\n",
    "print(tmp)"
   ]
  },
  {
   "cell_type": "code",
   "execution_count": 13,
   "id": "b33255b4",
   "metadata": {},
   "outputs": [
    {
     "name": "stdout",
     "output_type": "stream",
     "text": [
      "3061\n",
      "1568721\n"
     ]
    }
   ],
   "source": [
    "## Collect all documents\n",
    "import json\n",
    "import pickle\n",
    "\n",
    "data = []\n",
    "corpus = ''\n",
    "for i in range(file_list.shape[0]):\n",
    "    row = file_list.iloc[i,:]\n",
    "    doc = parse_cwb_briefing(row['furi'])\n",
    "    corpus = corpus + doc + '\\n'\n",
    "    data.append({'date':row['date'], 'content':doc})\n",
    "\n",
    "print(len(data))\n",
    "print(len(corpus))"
   ]
  },
  {
   "cell_type": "code",
   "execution_count": 14,
   "id": "52981c43",
   "metadata": {},
   "outputs": [],
   "source": [
    "# Output\n",
    "with open('../../data/cwb_briefing_all.txt', 'w', encoding='utf-8') as f:\n",
    "    f.write(corpus)\n",
    "\n",
    "with open('../../data/cwb_briefing_all.json', 'w', encoding='utf-8') as f:\n",
    "    json.dump(data, f)\n"
   ]
  },
  {
   "cell_type": "markdown",
   "id": "dd97b311",
   "metadata": {},
   "source": [
    "Now, we have a single text file as the corpus. We will use this file to train a LLM."
   ]
  },
  {
   "cell_type": "markdown",
   "id": "419cba71-0fc8-40de-87bd-942aeaf63504",
   "metadata": {},
   "source": [
    "## Dive into the Structure of the Daily Briefing\n",
    "\n",
    "The length and number of sections of daily briefing content varied from day to day. We can roughly categorize the content into a few sections:\n",
    "\n",
    "1. **header**: report id, date and time information.\n",
    "2. **天氣特報**: optional.\n",
    "3. **synoptic-systems**: the type of system (high, low, or typhoon), its location (lon, lat), and its motion (direction and speed).\n",
    "4. **briefing**: usually starting with \"今（DD）受XX影響，台灣....\", describing the general weather conditions.\n",
    "5. **海上特報**: fog and strong wind.\n",
    "\n",
    "Generally, the report always has sections 1, 3, 4, and 5. Section 2 only shows up when there are special warnings. Also, section 5 sometimes consists of multiple sub-sections. We want to separate the sections for further analysis."
   ]
  },
  {
   "cell_type": "code",
   "execution_count": null,
   "id": "bb5dfd02-d5f0-4715-922b-249014d8fff3",
   "metadata": {},
   "outputs": [],
   "source": []
  }
 ],
 "metadata": {
  "kernelspec": {
   "display_name": "stcal",
   "language": "python",
   "name": "stcal"
  },
  "language_info": {
   "codemirror_mode": {
    "name": "ipython",
    "version": 3
   },
   "file_extension": ".py",
   "mimetype": "text/x-python",
   "name": "python",
   "nbconvert_exporter": "python",
   "pygments_lexer": "ipython3",
   "version": "3.8.16"
  }
 },
 "nbformat": 4,
 "nbformat_minor": 5
}
