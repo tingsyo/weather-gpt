{
 "cells": [
  {
   "cell_type": "markdown",
   "id": "1a983bb1",
   "metadata": {},
   "source": [
    "# Processing CWB Daily Analysis\n",
    "\n",
    "The Central Weather Bureau (CWB) published a daily weather briefing (天氣概況) on its [official website](https://www.cwb.gov.tw/V8/C/W/index.html) everyday. This short analysis usually contains:\n",
    "\n",
    "- the major synaptic weather systems around Taiwan,\n",
    "- the basic weather conditions of Taiwan (cloud, temperature, and precipitation), and\n",
    "- the prospects of weather conditions of Taiwan.\n",
    "- Weather warnings are specified if exist.\n",
    "- The final part of the briefing is about the wind condition on the ocean. \n",
    "\n",
    "Here we show two examples:\n",
    "<blockquote>\n",
    "(2012)２月２９日８時天氣概況：\n",
    "\n",
    "　　一、高氣壓１０２６百帕，在北緯３８度，東經１２７度，即在韓國，向東緩慢移動。\n",
    "\n",
    "　　二、今（２９日）白天起大陸冷氣團減弱，氣溫略回升，臺灣中部以北、東北部、東部、東南部地區及金門、馬祖有短暫雨，南部地區及澎湖為多雲的天氣；明（３月１）日臺灣東北部、東部及東南部地區有局部短暫雨，其他地區及澎湖、金門、馬祖為多雲到晴的天氣。今明兩天北部、中南部及澎湖、金門、馬祖易有局部霧。\n",
    "\n",
    "　　三、海上強風特報：\n",
    "１、受東北季風影響，臺灣北部海面、臺灣海峽北部、臺灣東南部海面及臺灣海峽南部平均風力可達６級，最大陣風８級，船隻請注意。今（２９）日至明（３月１）日上述各海面平均風力將持續減弱。\n",
    "２、受東北季風影響，巴士海峽及廣東海面平均風力可達６級，最大陣風８級，船隻請注意。今（２９日）晚起至明（３月１日）晨間南海平均風力將增強至６級，最大陣風８級，船隻請注意。明（３月１）日廣東海面平均風力將稍減弱。\n",
    "</blockquote>\n",
    "\n",
    "Another example:\n",
    "\n",
    "<blockquote>\n",
    "(2023)６月２８日８時天氣概況：\n",
    "    \n",
    "一、天氣特報：請參照本局發布之最新豪(大)雨特報。\n",
    "    \n",
    "二、高氣壓１０１８百帕，在北緯２９度，東經１３９度，即在日本南方海面，中心近似滯留。\n",
    "    \n",
    "三、今（２８日）白天南方雲系影響，臺灣東部及東南部地區有短暫陣雨，南部地區及澎湖亦有局部短暫陣雨，其他地區及金門、馬祖為多雲到晴，午後中部以北地區及東北部山區有局部短暫雷陣雨，山區並有局部大雨發生的機率。晚起至明（２９）日臺灣各地及馬祖多雲到晴，東部、東南部地區、恆春半島及澎湖、金門有局部短暫陣雨，午後西半部地區及其他山區有局部短暫雷陣雨，山區並有局部大雨，尤其中南部山區有局部短延時豪雨發生的機率。今晚至明晨基隆北海岸、宜蘭、恆春半島及南部沿海空曠地區易有８至９級強陣風，請注意。\n",
    "    \n",
    "四、黃海南部有局部霧，請注意。\n",
    "    \n",
    "五、海上強風特報：\n",
    "    \n",
    "１、臺灣北部海面平均風力可達６級，最大陣風８級，船隻請注意。今（２８日）下午起臺灣東北部海面平均風力將增強至６到７級，雷雨區最大陣風１０級；晚起臺灣海峽南部平均風力將增強至６級，最大陣風８級，船隻請特別注意。明（２９日）晨起臺灣北部海面平均風力將再增強至６到７級，最大陣風９級；臺灣海峽北部平均風力將再增強至６級，最大陣風８級，船隻請特別注意。明（２９）日臺灣東北部海面平均風力將稍減弱。\n",
    "    \n",
    "２、巴士海峽及東沙島海面平均風力可達６級，雷雨區最大陣風９級，船隻請注意。明（２９日）晚起南沙島海面平均風力將增強至６級，雷雨區最大陣風９級，船隻請注意。明（２９）日巴士海峽及東沙島海面平均風力將稍減弱。\n",
    "    \n",
    "３、今（２８日）晚起花鳥山海面、浙江海面及東海平均風力將增強至６級，最大陣風８級，船隻請注意。明（２９日）上午起黃海南部平均風力將增強至６級，雷雨區最大陣風９級；晚起花鳥山海面及浙江海面平均風力將增強至６到７級，最大陣風９級，船隻請特別注意。\n",
    "</blockquote>\n",
    "\n",
    "We have collected this briefing data in 2012-02-29 ~ 2020-12-31, and we want to use the analysis text to train a language model. Before we do that, we need to process the text data and form a corpus."
   ]
  },
  {
   "cell_type": "code",
   "execution_count": 2,
   "id": "83e708e1",
   "metadata": {},
   "outputs": [
    {
     "name": "stdout",
     "output_type": "stream",
     "text": [
      "(3061, 2)\n",
      "         date                                               furi\n",
      "0  2012-02-29  ../../data/cwb_daily/2012\\2012-02-29_1100.W01.dat\n",
      "1  2012-03-01  ../../data/cwb_daily/2012\\2012-03-01_1100.W01.dat\n",
      "2  2012-03-02  ../../data/cwb_daily/2012\\2012-03-02_1100.W01.dat\n",
      "3  2012-03-03  ../../data/cwb_daily/2012\\2012-03-03_1100.W01.dat\n",
      "4  2012-03-04  ../../data/cwb_daily/2012\\2012-03-04_1100.W01.dat\n"
     ]
    }
   ],
   "source": [
    "import os\n",
    "import numpy as np\n",
    "import pandas as pd\n",
    "\n",
    "DATAROOT = '../../data/cwb_daily/'\n",
    "\n",
    "# Walk through the sub-directories\n",
    "file_list = []\n",
    "for root, dirs, files in os.walk(DATAROOT):\n",
    "    for name in files:\n",
    "        if name.endswith('_1100.W01.dat'):\n",
    "            date = name.replace('_1100.W01.dat','')\n",
    "            url = os.path.join(root, name)\n",
    "            file_list.append({'date':date, 'furi':url})\n",
    "\n",
    "file_list = pd.DataFrame(file_list)\n",
    "print(file_list.shape)\n",
    "print(file_list.head())"
   ]
  },
  {
   "cell_type": "code",
   "execution_count": null,
   "id": "fab4ed9f",
   "metadata": {},
   "outputs": [],
   "source": [
    "print(file_list.sahpe).to_csv()"
   ]
  }
 ],
 "metadata": {
  "kernelspec": {
   "display_name": "stcal",
   "language": "python",
   "name": "stcal"
  },
  "language_info": {
   "codemirror_mode": {
    "name": "ipython",
    "version": 3
   },
   "file_extension": ".py",
   "mimetype": "text/x-python",
   "name": "python",
   "nbconvert_exporter": "python",
   "pygments_lexer": "ipython3",
   "version": "3.8.16"
  }
 },
 "nbformat": 4,
 "nbformat_minor": 5
}
